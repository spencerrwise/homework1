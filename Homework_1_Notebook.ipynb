{
 "cells": [
  {
   "cell_type": "markdown",
   "metadata": {},
   "source": [
    "# Homework 1:  \n",
    "Data Cleaning, Describing, and Visualization\n",
    "\n",
    "By Spencer Wise"
   ]
  },
  {
   "cell_type": "markdown",
   "metadata": {},
   "source": [
    "## Description:\n",
    "In this data science project, I will read in three different kinds of datasets (CSV, SQL, JSON from API). \n",
    "\n",
    "After I have read in these three datasets, I will:\n",
    "1. Clean the data (handle missing data, handle outliers, scale the data, convert some data to categorical, etc.)\n",
    "2. Describe the data with tables, statistics, and summaries. \n",
    "3. Visualize the data. "
   ]
  },
  {
   "cell_type": "markdown",
   "metadata": {},
   "source": [
    "### Import Libraries"
   ]
  },
  {
   "cell_type": "code",
   "execution_count": 2,
   "metadata": {},
   "outputs": [],
   "source": [
    "#Import the necessary libraries\n",
    "import pandas as pd\n",
    "import matplotlib.pyplot as plt\n",
    "import numpy as np\n",
    "import seaborn as sns\n",
    "import scipy as sp\n",
    "import sqlite3\n",
    "import json\n",
    "from scipy import stats\n",
    "from urllib.request import Request, urlopen\n",
    "from pandas.io.json import json_normalize\n",
    "\n",
    "#%matplotlib inline shows plots in Jupyter Notebook browser\n",
    "%matplotlib inline"
   ]
  },
  {
   "cell_type": "markdown",
   "metadata": {},
   "source": [
    "### Import Dataset 1"
   ]
  },
  {
   "cell_type": "markdown",
   "metadata": {},
   "source": [
    "When I was a kid, I was obsessed with Pokemon. I used to bring my binder filled with Pokemon cards to school every day to trade with my friends. Although I collected Pokemon cards, played all the Pokemon gameboy games, and watched the Pokemon television show, there's still a lot about Pokemon that I don't know. My goal is to answer a few lifelong questions by analyzing Pokemon data."
   ]
  },
  {
   "cell_type": "markdown",
   "metadata": {},
   "source": [
    "The first step is to import the Pokemon dataset."
   ]
  },
  {
   "cell_type": "code",
   "execution_count": 3,
   "metadata": {},
   "outputs": [],
   "source": [
    "#Reading in the Pokemon dataset downloaded from kaggle\n",
    "pokemon_data = pd.read_csv(r\"C:\\Users\\Spencer\\Dropbox\\School\\Fall 2018\\Machine Learning\\Projects\\Homework_1\\Pokemon.csv\", encoding=\"latin1\")"
   ]
  },
  {
   "cell_type": "markdown",
   "metadata": {},
   "source": [
    "### Summarize Data"
   ]
  },
  {
   "cell_type": "markdown",
   "metadata": {},
   "source": [
    "Now that the data has been read into Python, we will want to preview the dataset."
   ]
  },
  {
   "cell_type": "code",
   "execution_count": 4,
   "metadata": {},
   "outputs": [
    {
     "name": "stdout",
     "output_type": "stream",
     "text": [
      "<class 'pandas.core.frame.DataFrame'>\n",
      "RangeIndex: 800 entries, 0 to 799\n",
      "Data columns (total 13 columns):\n",
      "#             800 non-null int64\n",
      "Name          800 non-null object\n",
      "Type 1        800 non-null object\n",
      "Type 2        414 non-null object\n",
      "Total         800 non-null int64\n",
      "HP            800 non-null int64\n",
      "Attack        800 non-null int64\n",
      "Defense       800 non-null int64\n",
      "Sp. Atk       800 non-null int64\n",
      "Sp. Def       800 non-null int64\n",
      "Speed         800 non-null int64\n",
      "Generation    800 non-null int64\n",
      "Legendary     800 non-null bool\n",
      "dtypes: bool(1), int64(9), object(3)\n",
      "memory usage: 75.9+ KB\n"
     ]
    },
    {
     "data": {
      "text/html": [
       "<div>\n",
       "<style scoped>\n",
       "    .dataframe tbody tr th:only-of-type {\n",
       "        vertical-align: middle;\n",
       "    }\n",
       "\n",
       "    .dataframe tbody tr th {\n",
       "        vertical-align: top;\n",
       "    }\n",
       "\n",
       "    .dataframe thead th {\n",
       "        text-align: right;\n",
       "    }\n",
       "</style>\n",
       "<table border=\"1\" class=\"dataframe\">\n",
       "  <thead>\n",
       "    <tr style=\"text-align: right;\">\n",
       "      <th></th>\n",
       "      <th>#</th>\n",
       "      <th>Name</th>\n",
       "      <th>Type 1</th>\n",
       "      <th>Type 2</th>\n",
       "      <th>Total</th>\n",
       "      <th>HP</th>\n",
       "      <th>Attack</th>\n",
       "      <th>Defense</th>\n",
       "      <th>Sp. Atk</th>\n",
       "      <th>Sp. Def</th>\n",
       "      <th>Speed</th>\n",
       "      <th>Generation</th>\n",
       "      <th>Legendary</th>\n",
       "    </tr>\n",
       "  </thead>\n",
       "  <tbody>\n",
       "    <tr>\n",
       "      <th>0</th>\n",
       "      <td>1</td>\n",
       "      <td>Bulbasaur</td>\n",
       "      <td>Grass</td>\n",
       "      <td>Poison</td>\n",
       "      <td>318</td>\n",
       "      <td>45</td>\n",
       "      <td>49</td>\n",
       "      <td>49</td>\n",
       "      <td>65</td>\n",
       "      <td>65</td>\n",
       "      <td>45</td>\n",
       "      <td>1</td>\n",
       "      <td>False</td>\n",
       "    </tr>\n",
       "    <tr>\n",
       "      <th>1</th>\n",
       "      <td>2</td>\n",
       "      <td>Ivysaur</td>\n",
       "      <td>Grass</td>\n",
       "      <td>Poison</td>\n",
       "      <td>405</td>\n",
       "      <td>60</td>\n",
       "      <td>62</td>\n",
       "      <td>63</td>\n",
       "      <td>80</td>\n",
       "      <td>80</td>\n",
       "      <td>60</td>\n",
       "      <td>1</td>\n",
       "      <td>False</td>\n",
       "    </tr>\n",
       "    <tr>\n",
       "      <th>2</th>\n",
       "      <td>3</td>\n",
       "      <td>Venusaur</td>\n",
       "      <td>Grass</td>\n",
       "      <td>Poison</td>\n",
       "      <td>525</td>\n",
       "      <td>80</td>\n",
       "      <td>82</td>\n",
       "      <td>83</td>\n",
       "      <td>100</td>\n",
       "      <td>100</td>\n",
       "      <td>80</td>\n",
       "      <td>1</td>\n",
       "      <td>False</td>\n",
       "    </tr>\n",
       "    <tr>\n",
       "      <th>3</th>\n",
       "      <td>3</td>\n",
       "      <td>VenusaurMega Venusaur</td>\n",
       "      <td>Grass</td>\n",
       "      <td>Poison</td>\n",
       "      <td>625</td>\n",
       "      <td>80</td>\n",
       "      <td>100</td>\n",
       "      <td>123</td>\n",
       "      <td>122</td>\n",
       "      <td>120</td>\n",
       "      <td>80</td>\n",
       "      <td>1</td>\n",
       "      <td>False</td>\n",
       "    </tr>\n",
       "    <tr>\n",
       "      <th>4</th>\n",
       "      <td>4</td>\n",
       "      <td>Charmander</td>\n",
       "      <td>Fire</td>\n",
       "      <td>NaN</td>\n",
       "      <td>309</td>\n",
       "      <td>39</td>\n",
       "      <td>52</td>\n",
       "      <td>43</td>\n",
       "      <td>60</td>\n",
       "      <td>50</td>\n",
       "      <td>65</td>\n",
       "      <td>1</td>\n",
       "      <td>False</td>\n",
       "    </tr>\n",
       "  </tbody>\n",
       "</table>\n",
       "</div>"
      ],
      "text/plain": [
       "   #                   Name Type 1  Type 2  Total  HP  Attack  Defense  \\\n",
       "0  1              Bulbasaur  Grass  Poison    318  45      49       49   \n",
       "1  2                Ivysaur  Grass  Poison    405  60      62       63   \n",
       "2  3               Venusaur  Grass  Poison    525  80      82       83   \n",
       "3  3  VenusaurMega Venusaur  Grass  Poison    625  80     100      123   \n",
       "4  4             Charmander   Fire     NaN    309  39      52       43   \n",
       "\n",
       "   Sp. Atk  Sp. Def  Speed  Generation  Legendary  \n",
       "0       65       65     45           1      False  \n",
       "1       80       80     60           1      False  \n",
       "2      100      100     80           1      False  \n",
       "3      122      120     80           1      False  \n",
       "4       60       50     65           1      False  "
      ]
     },
     "execution_count": 4,
     "metadata": {},
     "output_type": "execute_result"
    }
   ],
   "source": [
    "#Preview data\n",
    "pokemon_data.info()\n",
    "pokemon_data.head()"
   ]
  },
  {
   "cell_type": "markdown",
   "metadata": {},
   "source": [
    "From the data preview, I can see: 13 variables, 800 observations, which features are missing data, and how variables are encoded."
   ]
  },
  {
   "cell_type": "code",
   "execution_count": 5,
   "metadata": {},
   "outputs": [
    {
     "data": {
      "text/html": [
       "<div>\n",
       "<style scoped>\n",
       "    .dataframe tbody tr th:only-of-type {\n",
       "        vertical-align: middle;\n",
       "    }\n",
       "\n",
       "    .dataframe tbody tr th {\n",
       "        vertical-align: top;\n",
       "    }\n",
       "\n",
       "    .dataframe thead th {\n",
       "        text-align: right;\n",
       "    }\n",
       "</style>\n",
       "<table border=\"1\" class=\"dataframe\">\n",
       "  <thead>\n",
       "    <tr style=\"text-align: right;\">\n",
       "      <th></th>\n",
       "      <th>#</th>\n",
       "      <th>Total</th>\n",
       "      <th>HP</th>\n",
       "      <th>Attack</th>\n",
       "      <th>Defense</th>\n",
       "      <th>Sp. Atk</th>\n",
       "      <th>Sp. Def</th>\n",
       "      <th>Speed</th>\n",
       "      <th>Generation</th>\n",
       "    </tr>\n",
       "  </thead>\n",
       "  <tbody>\n",
       "    <tr>\n",
       "      <th>count</th>\n",
       "      <td>800.000000</td>\n",
       "      <td>800.00000</td>\n",
       "      <td>800.000000</td>\n",
       "      <td>800.000000</td>\n",
       "      <td>800.000000</td>\n",
       "      <td>800.000000</td>\n",
       "      <td>800.000000</td>\n",
       "      <td>800.000000</td>\n",
       "      <td>800.00000</td>\n",
       "    </tr>\n",
       "    <tr>\n",
       "      <th>mean</th>\n",
       "      <td>362.813750</td>\n",
       "      <td>435.10250</td>\n",
       "      <td>69.258750</td>\n",
       "      <td>79.001250</td>\n",
       "      <td>73.842500</td>\n",
       "      <td>72.820000</td>\n",
       "      <td>71.902500</td>\n",
       "      <td>68.277500</td>\n",
       "      <td>3.32375</td>\n",
       "    </tr>\n",
       "    <tr>\n",
       "      <th>std</th>\n",
       "      <td>208.343798</td>\n",
       "      <td>119.96304</td>\n",
       "      <td>25.534669</td>\n",
       "      <td>32.457366</td>\n",
       "      <td>31.183501</td>\n",
       "      <td>32.722294</td>\n",
       "      <td>27.828916</td>\n",
       "      <td>29.060474</td>\n",
       "      <td>1.66129</td>\n",
       "    </tr>\n",
       "    <tr>\n",
       "      <th>min</th>\n",
       "      <td>1.000000</td>\n",
       "      <td>180.00000</td>\n",
       "      <td>1.000000</td>\n",
       "      <td>5.000000</td>\n",
       "      <td>5.000000</td>\n",
       "      <td>10.000000</td>\n",
       "      <td>20.000000</td>\n",
       "      <td>5.000000</td>\n",
       "      <td>1.00000</td>\n",
       "    </tr>\n",
       "    <tr>\n",
       "      <th>25%</th>\n",
       "      <td>184.750000</td>\n",
       "      <td>330.00000</td>\n",
       "      <td>50.000000</td>\n",
       "      <td>55.000000</td>\n",
       "      <td>50.000000</td>\n",
       "      <td>49.750000</td>\n",
       "      <td>50.000000</td>\n",
       "      <td>45.000000</td>\n",
       "      <td>2.00000</td>\n",
       "    </tr>\n",
       "    <tr>\n",
       "      <th>50%</th>\n",
       "      <td>364.500000</td>\n",
       "      <td>450.00000</td>\n",
       "      <td>65.000000</td>\n",
       "      <td>75.000000</td>\n",
       "      <td>70.000000</td>\n",
       "      <td>65.000000</td>\n",
       "      <td>70.000000</td>\n",
       "      <td>65.000000</td>\n",
       "      <td>3.00000</td>\n",
       "    </tr>\n",
       "    <tr>\n",
       "      <th>75%</th>\n",
       "      <td>539.250000</td>\n",
       "      <td>515.00000</td>\n",
       "      <td>80.000000</td>\n",
       "      <td>100.000000</td>\n",
       "      <td>90.000000</td>\n",
       "      <td>95.000000</td>\n",
       "      <td>90.000000</td>\n",
       "      <td>90.000000</td>\n",
       "      <td>5.00000</td>\n",
       "    </tr>\n",
       "    <tr>\n",
       "      <th>max</th>\n",
       "      <td>721.000000</td>\n",
       "      <td>780.00000</td>\n",
       "      <td>255.000000</td>\n",
       "      <td>190.000000</td>\n",
       "      <td>230.000000</td>\n",
       "      <td>194.000000</td>\n",
       "      <td>230.000000</td>\n",
       "      <td>180.000000</td>\n",
       "      <td>6.00000</td>\n",
       "    </tr>\n",
       "  </tbody>\n",
       "</table>\n",
       "</div>"
      ],
      "text/plain": [
       "                #      Total          HP      Attack     Defense     Sp. Atk  \\\n",
       "count  800.000000  800.00000  800.000000  800.000000  800.000000  800.000000   \n",
       "mean   362.813750  435.10250   69.258750   79.001250   73.842500   72.820000   \n",
       "std    208.343798  119.96304   25.534669   32.457366   31.183501   32.722294   \n",
       "min      1.000000  180.00000    1.000000    5.000000    5.000000   10.000000   \n",
       "25%    184.750000  330.00000   50.000000   55.000000   50.000000   49.750000   \n",
       "50%    364.500000  450.00000   65.000000   75.000000   70.000000   65.000000   \n",
       "75%    539.250000  515.00000   80.000000  100.000000   90.000000   95.000000   \n",
       "max    721.000000  780.00000  255.000000  190.000000  230.000000  194.000000   \n",
       "\n",
       "          Sp. Def       Speed  Generation  \n",
       "count  800.000000  800.000000   800.00000  \n",
       "mean    71.902500   68.277500     3.32375  \n",
       "std     27.828916   29.060474     1.66129  \n",
       "min     20.000000    5.000000     1.00000  \n",
       "25%     50.000000   45.000000     2.00000  \n",
       "50%     70.000000   65.000000     3.00000  \n",
       "75%     90.000000   90.000000     5.00000  \n",
       "max    230.000000  180.000000     6.00000  "
      ]
     },
     "execution_count": 5,
     "metadata": {},
     "output_type": "execute_result"
    }
   ],
   "source": [
    "#Describe data\n",
    "pokemon_data.describe()"
   ]
  },
  {
   "cell_type": "markdown",
   "metadata": {},
   "source": [
    "From describing the data, I learn the basic information of min and max values, mean, and standard deviation. "
   ]
  },
  {
   "cell_type": "markdown",
   "metadata": {},
   "source": [
    "### Cleaning Data"
   ]
  },
  {
   "cell_type": "markdown",
   "metadata": {},
   "source": [
    "Now I will print all of the columns so I can see exactly what information is included in the dataset."
   ]
  },
  {
   "cell_type": "code",
   "execution_count": 6,
   "metadata": {},
   "outputs": [
    {
     "name": "stdout",
     "output_type": "stream",
     "text": [
      "Index(['#', 'Name', 'Type 1', 'Type 2', 'Total', 'HP', 'Attack', 'Defense',\n",
      "       'Sp. Atk', 'Sp. Def', 'Speed', 'Generation', 'Legendary'],\n",
      "      dtype='object')\n"
     ]
    }
   ],
   "source": [
    "#Printing all of the columns\n",
    "print(pokemon_data.columns)"
   ]
  },
  {
   "cell_type": "markdown",
   "metadata": {},
   "source": [
    "I am going to drop the \"#\" column because it isn't needed in the analysis of this dataset."
   ]
  },
  {
   "cell_type": "code",
   "execution_count": 7,
   "metadata": {},
   "outputs": [],
   "source": [
    "#Dropping the \"#\" column\n",
    "pokemon_data.drop(['#'], inplace=True, axis=1)"
   ]
  },
  {
   "cell_type": "markdown",
   "metadata": {},
   "source": [
    "Now I am going to rename a couple of the columns with unnecessary spaces in their names to make them easier to deal with later."
   ]
  },
  {
   "cell_type": "code",
   "execution_count": 8,
   "metadata": {},
   "outputs": [],
   "source": [
    "#Renaming some of the columns\n",
    "pokemon_data.rename(columns={'Type 1': 'Type_1', 'Type 2': \"Type_2\"}, inplace=True)"
   ]
  },
  {
   "cell_type": "markdown",
   "metadata": {},
   "source": [
    "### Visualizing Data"
   ]
  },
  {
   "cell_type": "markdown",
   "metadata": {},
   "source": [
    "Now that the data is clean, I will look for correlation between the variables."
   ]
  },
  {
   "cell_type": "code",
   "execution_count": 9,
   "metadata": {},
   "outputs": [
    {
     "data": {
      "text/html": [
       "<div>\n",
       "<style scoped>\n",
       "    .dataframe tbody tr th:only-of-type {\n",
       "        vertical-align: middle;\n",
       "    }\n",
       "\n",
       "    .dataframe tbody tr th {\n",
       "        vertical-align: top;\n",
       "    }\n",
       "\n",
       "    .dataframe thead th {\n",
       "        text-align: right;\n",
       "    }\n",
       "</style>\n",
       "<table border=\"1\" class=\"dataframe\">\n",
       "  <thead>\n",
       "    <tr style=\"text-align: right;\">\n",
       "      <th></th>\n",
       "      <th>Total</th>\n",
       "      <th>HP</th>\n",
       "      <th>Attack</th>\n",
       "      <th>Defense</th>\n",
       "      <th>Sp. Atk</th>\n",
       "      <th>Sp. Def</th>\n",
       "      <th>Speed</th>\n",
       "      <th>Generation</th>\n",
       "      <th>Legendary</th>\n",
       "    </tr>\n",
       "  </thead>\n",
       "  <tbody>\n",
       "    <tr>\n",
       "      <th>Total</th>\n",
       "      <td>1.000000</td>\n",
       "      <td>0.618748</td>\n",
       "      <td>0.736211</td>\n",
       "      <td>0.612787</td>\n",
       "      <td>0.747250</td>\n",
       "      <td>0.717609</td>\n",
       "      <td>0.575943</td>\n",
       "      <td>0.048384</td>\n",
       "      <td>0.501758</td>\n",
       "    </tr>\n",
       "    <tr>\n",
       "      <th>HP</th>\n",
       "      <td>0.618748</td>\n",
       "      <td>1.000000</td>\n",
       "      <td>0.422386</td>\n",
       "      <td>0.239622</td>\n",
       "      <td>0.362380</td>\n",
       "      <td>0.378718</td>\n",
       "      <td>0.175952</td>\n",
       "      <td>0.058683</td>\n",
       "      <td>0.273620</td>\n",
       "    </tr>\n",
       "    <tr>\n",
       "      <th>Attack</th>\n",
       "      <td>0.736211</td>\n",
       "      <td>0.422386</td>\n",
       "      <td>1.000000</td>\n",
       "      <td>0.438687</td>\n",
       "      <td>0.396362</td>\n",
       "      <td>0.263990</td>\n",
       "      <td>0.381240</td>\n",
       "      <td>0.051451</td>\n",
       "      <td>0.345408</td>\n",
       "    </tr>\n",
       "    <tr>\n",
       "      <th>Defense</th>\n",
       "      <td>0.612787</td>\n",
       "      <td>0.239622</td>\n",
       "      <td>0.438687</td>\n",
       "      <td>1.000000</td>\n",
       "      <td>0.223549</td>\n",
       "      <td>0.510747</td>\n",
       "      <td>0.015227</td>\n",
       "      <td>0.042419</td>\n",
       "      <td>0.246377</td>\n",
       "    </tr>\n",
       "    <tr>\n",
       "      <th>Sp. Atk</th>\n",
       "      <td>0.747250</td>\n",
       "      <td>0.362380</td>\n",
       "      <td>0.396362</td>\n",
       "      <td>0.223549</td>\n",
       "      <td>1.000000</td>\n",
       "      <td>0.506121</td>\n",
       "      <td>0.473018</td>\n",
       "      <td>0.036437</td>\n",
       "      <td>0.448907</td>\n",
       "    </tr>\n",
       "    <tr>\n",
       "      <th>Sp. Def</th>\n",
       "      <td>0.717609</td>\n",
       "      <td>0.378718</td>\n",
       "      <td>0.263990</td>\n",
       "      <td>0.510747</td>\n",
       "      <td>0.506121</td>\n",
       "      <td>1.000000</td>\n",
       "      <td>0.259133</td>\n",
       "      <td>0.028486</td>\n",
       "      <td>0.363937</td>\n",
       "    </tr>\n",
       "    <tr>\n",
       "      <th>Speed</th>\n",
       "      <td>0.575943</td>\n",
       "      <td>0.175952</td>\n",
       "      <td>0.381240</td>\n",
       "      <td>0.015227</td>\n",
       "      <td>0.473018</td>\n",
       "      <td>0.259133</td>\n",
       "      <td>1.000000</td>\n",
       "      <td>-0.023121</td>\n",
       "      <td>0.326715</td>\n",
       "    </tr>\n",
       "    <tr>\n",
       "      <th>Generation</th>\n",
       "      <td>0.048384</td>\n",
       "      <td>0.058683</td>\n",
       "      <td>0.051451</td>\n",
       "      <td>0.042419</td>\n",
       "      <td>0.036437</td>\n",
       "      <td>0.028486</td>\n",
       "      <td>-0.023121</td>\n",
       "      <td>1.000000</td>\n",
       "      <td>0.079794</td>\n",
       "    </tr>\n",
       "    <tr>\n",
       "      <th>Legendary</th>\n",
       "      <td>0.501758</td>\n",
       "      <td>0.273620</td>\n",
       "      <td>0.345408</td>\n",
       "      <td>0.246377</td>\n",
       "      <td>0.448907</td>\n",
       "      <td>0.363937</td>\n",
       "      <td>0.326715</td>\n",
       "      <td>0.079794</td>\n",
       "      <td>1.000000</td>\n",
       "    </tr>\n",
       "  </tbody>\n",
       "</table>\n",
       "</div>"
      ],
      "text/plain": [
       "               Total        HP    Attack   Defense   Sp. Atk   Sp. Def  \\\n",
       "Total       1.000000  0.618748  0.736211  0.612787  0.747250  0.717609   \n",
       "HP          0.618748  1.000000  0.422386  0.239622  0.362380  0.378718   \n",
       "Attack      0.736211  0.422386  1.000000  0.438687  0.396362  0.263990   \n",
       "Defense     0.612787  0.239622  0.438687  1.000000  0.223549  0.510747   \n",
       "Sp. Atk     0.747250  0.362380  0.396362  0.223549  1.000000  0.506121   \n",
       "Sp. Def     0.717609  0.378718  0.263990  0.510747  0.506121  1.000000   \n",
       "Speed       0.575943  0.175952  0.381240  0.015227  0.473018  0.259133   \n",
       "Generation  0.048384  0.058683  0.051451  0.042419  0.036437  0.028486   \n",
       "Legendary   0.501758  0.273620  0.345408  0.246377  0.448907  0.363937   \n",
       "\n",
       "               Speed  Generation  Legendary  \n",
       "Total       0.575943    0.048384   0.501758  \n",
       "HP          0.175952    0.058683   0.273620  \n",
       "Attack      0.381240    0.051451   0.345408  \n",
       "Defense     0.015227    0.042419   0.246377  \n",
       "Sp. Atk     0.473018    0.036437   0.448907  \n",
       "Sp. Def     0.259133    0.028486   0.363937  \n",
       "Speed       1.000000   -0.023121   0.326715  \n",
       "Generation -0.023121    1.000000   0.079794  \n",
       "Legendary   0.326715    0.079794   1.000000  "
      ]
     },
     "execution_count": 9,
     "metadata": {},
     "output_type": "execute_result"
    }
   ],
   "source": [
    "#Look for correlation in the data\n",
    "pokemon_data.corr()"
   ]
  },
  {
   "cell_type": "markdown",
   "metadata": {},
   "source": [
    "We can quickly see that a good amount of the data is correlated. One thing to notice is that \"generation\" does not have a high correlation with any of the other variables which means that pokemon didn't get meaningfully stronger or weaker as generations progressed. \n",
    "\n",
    "Now I am going to use a barplot to compare two categories: Type 1 of pokemon, and total stats (Sum of Attack, Sp. Atk, Defense, Sp. Def, Speed and HP) to see which type of pokemon is the strongest. "
   ]
  },
  {
   "cell_type": "code",
   "execution_count": 34,
   "metadata": {},
   "outputs": [
    {
     "data": {
      "image/png": "[encoded data removed]",
      "text/plain": [
       "<Figure size 432x288 with 1 Axes>"
      ]
     },
     "metadata": {},
     "output_type": "display_data"
    }
   ],
   "source": [
    "#Show barplot to compare two categories Pokemon type and total stats\n",
    "def barplot(x_axis, y_axis, tick_size):\n",
    "    sns.barplot(x_axis, y_axis).tick_params(labelsize=tick_size)\n",
    "barplot(pokemon_data.Type_1, pokemon_data.Total, 5)"
   ]
  },
  {
   "cell_type": "markdown",
   "metadata": {},
   "source": [
    "From the barplot, we can see that the strongest type of pokemon based on total stats is the Dragon type. The weakest pokemon type is Bug type.\n",
    "\n",
    "My next question is around legendary pokemon. Are legendary pokemon stronger than non-legendary pokemon? My gut says yes, but we can find out with a barplot that shows legendary pokemon's total stats vs. non-legendary pokemon's total stats. "
   ]
  },
  {
   "cell_type": "code",
   "execution_count": 11,
   "metadata": {},
   "outputs": [
    {
     "data": {
      "image/png": "[encoded data removed]",
      "text/plain": [
       "<Figure size 432x288 with 1 Axes>"
      ]
     },
     "metadata": {},
     "output_type": "display_data"
    }
   ],
   "source": [
    "barplot(pokemon_data.Legendary, pokemon_data.Total, 10)"
   ]
  },
  {
   "cell_type": "markdown",
   "metadata": {},
   "source": [
    "We can see from the above barplot that legendary pokemon are, indeed, stronger than non-legendary pokemon based on total stats."
   ]
  },
  {
   "cell_type": "code",
   "execution_count": 37,
   "metadata": {},
   "outputs": [
    {
     "name": "stderr",
     "output_type": "stream",
     "text": [
      "C:\\Users\\Spencer\\Anaconda3\\lib\\site-packages\\matplotlib\\axes\\_axes.py:6462: UserWarning: The 'normed' kwarg is deprecated, and has been replaced by the 'density' kwarg.\n",
      "  warnings.warn(\"The 'normed' kwarg is deprecated, and has been \"\n"
     ]
    },
    {
     "data": {
      "image/png": "[encoded data removed]",
      "text/plain": [
       "<Figure size 432x288 with 1 Axes>"
      ]
     },
     "metadata": {},
     "output_type": "display_data"
    }
   ],
   "source": [
    "#Use Seaborn to create a histogram\n",
    "sns.distplot(pokemon_data.Total, kde=False)\n",
    "\n",
    "def y(label, font_size):\n",
    "    plt.ylabel(label, fontsize=font_size)\n",
    "y('Number of Pokemon', 10)"
   ]
  },
  {
   "cell_type": "markdown",
   "metadata": {},
   "source": [
    "Another way of visualizing this data is by using a histogram to plot the distribution. In the above graph, we see that total stats are bimodally distributed with two peaks around 300 and 500. "
   ]
  },
  {
   "cell_type": "markdown",
   "metadata": {},
   "source": [
    "### Import Dataset 2"
   ]
  },
  {
   "cell_type": "markdown",
   "metadata": {},
   "source": [
    "Growing up in the Bay Area, CA, I've followed the tech industry for the majority of the past decade. In my opinion, one of the more interesting companies to emerge over the past 10 years is Lending Club, which is a peer to peer lending platform. I've always found it fascinating that a platform like this could exist and I'm curious what kind of people Lending Club caters to. "
   ]
  },
  {
   "cell_type": "code",
   "execution_count": 13,
   "metadata": {},
   "outputs": [],
   "source": [
    "#Reading in the Lending Club dataset downloaded from kaggle\n",
    "conn  =  sqlite3.connect(\"C:/Users/Spencer/Dropbox/School/Fall 2018/Machine Learning/Projects/Homework_1/database.sqlite\")"
   ]
  },
  {
   "cell_type": "code",
   "execution_count": 14,
   "metadata": {},
   "outputs": [
    {
     "data": {
      "text/html": [
       "<div>\n",
       "<style scoped>\n",
       "    .dataframe tbody tr th:only-of-type {\n",
       "        vertical-align: middle;\n",
       "    }\n",
       "\n",
       "    .dataframe tbody tr th {\n",
       "        vertical-align: top;\n",
       "    }\n",
       "\n",
       "    .dataframe thead th {\n",
       "        text-align: right;\n",
       "    }\n",
       "</style>\n",
       "<table border=\"1\" class=\"dataframe\">\n",
       "  <thead>\n",
       "    <tr style=\"text-align: right;\">\n",
       "      <th></th>\n",
       "      <th>index</th>\n",
       "      <th>id</th>\n",
       "      <th>member_id</th>\n",
       "      <th>loan_amnt</th>\n",
       "      <th>funded_amnt</th>\n",
       "      <th>funded_amnt_inv</th>\n",
       "      <th>term</th>\n",
       "      <th>int_rate</th>\n",
       "      <th>installment</th>\n",
       "      <th>grade</th>\n",
       "      <th>...</th>\n",
       "      <th>total_bal_il</th>\n",
       "      <th>il_util</th>\n",
       "      <th>open_rv_12m</th>\n",
       "      <th>open_rv_24m</th>\n",
       "      <th>max_bal_bc</th>\n",
       "      <th>all_util</th>\n",
       "      <th>total_rev_hi_lim</th>\n",
       "      <th>inq_fi</th>\n",
       "      <th>total_cu_tl</th>\n",
       "      <th>inq_last_12m</th>\n",
       "    </tr>\n",
       "  </thead>\n",
       "  <tbody>\n",
       "    <tr>\n",
       "      <th>0</th>\n",
       "      <td>0</td>\n",
       "      <td>1077501</td>\n",
       "      <td>1296599.0</td>\n",
       "      <td>5000.0</td>\n",
       "      <td>5000.0</td>\n",
       "      <td>4975.0</td>\n",
       "      <td>36 months</td>\n",
       "      <td>10.65%</td>\n",
       "      <td>162.87</td>\n",
       "      <td>B</td>\n",
       "      <td>...</td>\n",
       "      <td>None</td>\n",
       "      <td>None</td>\n",
       "      <td>None</td>\n",
       "      <td>None</td>\n",
       "      <td>None</td>\n",
       "      <td>None</td>\n",
       "      <td>None</td>\n",
       "      <td>None</td>\n",
       "      <td>None</td>\n",
       "      <td>None</td>\n",
       "    </tr>\n",
       "    <tr>\n",
       "      <th>1</th>\n",
       "      <td>1</td>\n",
       "      <td>1077430</td>\n",
       "      <td>1314167.0</td>\n",
       "      <td>2500.0</td>\n",
       "      <td>2500.0</td>\n",
       "      <td>2500.0</td>\n",
       "      <td>60 months</td>\n",
       "      <td>15.27%</td>\n",
       "      <td>59.83</td>\n",
       "      <td>C</td>\n",
       "      <td>...</td>\n",
       "      <td>None</td>\n",
       "      <td>None</td>\n",
       "      <td>None</td>\n",
       "      <td>None</td>\n",
       "      <td>None</td>\n",
       "      <td>None</td>\n",
       "      <td>None</td>\n",
       "      <td>None</td>\n",
       "      <td>None</td>\n",
       "      <td>None</td>\n",
       "    </tr>\n",
       "    <tr>\n",
       "      <th>2</th>\n",
       "      <td>2</td>\n",
       "      <td>1077175</td>\n",
       "      <td>1313524.0</td>\n",
       "      <td>2400.0</td>\n",
       "      <td>2400.0</td>\n",
       "      <td>2400.0</td>\n",
       "      <td>36 months</td>\n",
       "      <td>15.96%</td>\n",
       "      <td>84.33</td>\n",
       "      <td>C</td>\n",
       "      <td>...</td>\n",
       "      <td>None</td>\n",
       "      <td>None</td>\n",
       "      <td>None</td>\n",
       "      <td>None</td>\n",
       "      <td>None</td>\n",
       "      <td>None</td>\n",
       "      <td>None</td>\n",
       "      <td>None</td>\n",
       "      <td>None</td>\n",
       "      <td>None</td>\n",
       "    </tr>\n",
       "    <tr>\n",
       "      <th>3</th>\n",
       "      <td>3</td>\n",
       "      <td>1076863</td>\n",
       "      <td>1277178.0</td>\n",
       "      <td>10000.0</td>\n",
       "      <td>10000.0</td>\n",
       "      <td>10000.0</td>\n",
       "      <td>36 months</td>\n",
       "      <td>13.49%</td>\n",
       "      <td>339.31</td>\n",
       "      <td>C</td>\n",
       "      <td>...</td>\n",
       "      <td>None</td>\n",
       "      <td>None</td>\n",
       "      <td>None</td>\n",
       "      <td>None</td>\n",
       "      <td>None</td>\n",
       "      <td>None</td>\n",
       "      <td>None</td>\n",
       "      <td>None</td>\n",
       "      <td>None</td>\n",
       "      <td>None</td>\n",
       "    </tr>\n",
       "    <tr>\n",
       "      <th>4</th>\n",
       "      <td>4</td>\n",
       "      <td>1075358</td>\n",
       "      <td>1311748.0</td>\n",
       "      <td>3000.0</td>\n",
       "      <td>3000.0</td>\n",
       "      <td>3000.0</td>\n",
       "      <td>60 months</td>\n",
       "      <td>12.69%</td>\n",
       "      <td>67.79</td>\n",
       "      <td>B</td>\n",
       "      <td>...</td>\n",
       "      <td>None</td>\n",
       "      <td>None</td>\n",
       "      <td>None</td>\n",
       "      <td>None</td>\n",
       "      <td>None</td>\n",
       "      <td>None</td>\n",
       "      <td>None</td>\n",
       "      <td>None</td>\n",
       "      <td>None</td>\n",
       "      <td>None</td>\n",
       "    </tr>\n",
       "  </tbody>\n",
       "</table>\n",
       "<p>5 rows × 75 columns</p>\n",
       "</div>"
      ],
      "text/plain": [
       "   index       id  member_id  loan_amnt  funded_amnt  funded_amnt_inv  \\\n",
       "0      0  1077501  1296599.0     5000.0       5000.0           4975.0   \n",
       "1      1  1077430  1314167.0     2500.0       2500.0           2500.0   \n",
       "2      2  1077175  1313524.0     2400.0       2400.0           2400.0   \n",
       "3      3  1076863  1277178.0    10000.0      10000.0          10000.0   \n",
       "4      4  1075358  1311748.0     3000.0       3000.0           3000.0   \n",
       "\n",
       "         term int_rate  installment grade     ...      total_bal_il il_util  \\\n",
       "0   36 months   10.65%       162.87     B     ...              None    None   \n",
       "1   60 months   15.27%        59.83     C     ...              None    None   \n",
       "2   36 months   15.96%        84.33     C     ...              None    None   \n",
       "3   36 months   13.49%       339.31     C     ...              None    None   \n",
       "4   60 months   12.69%        67.79     B     ...              None    None   \n",
       "\n",
       "  open_rv_12m open_rv_24m  max_bal_bc all_util total_rev_hi_lim inq_fi  \\\n",
       "0        None        None        None     None             None   None   \n",
       "1        None        None        None     None             None   None   \n",
       "2        None        None        None     None             None   None   \n",
       "3        None        None        None     None             None   None   \n",
       "4        None        None        None     None             None   None   \n",
       "\n",
       "  total_cu_tl inq_last_12m  \n",
       "0        None         None  \n",
       "1        None         None  \n",
       "2        None         None  \n",
       "3        None         None  \n",
       "4        None         None  \n",
       "\n",
       "[5 rows x 75 columns]"
      ]
     },
     "execution_count": 14,
     "metadata": {},
     "output_type": "execute_result"
    }
   ],
   "source": [
    "#Preview data\n",
    "head_df = pd.read_sql_query(\"select * from loan limit 5;\", conn)\n",
    "head_df"
   ]
  },
  {
   "cell_type": "markdown",
   "metadata": {},
   "source": [
    "This is a fairly large dataset with 75 variables and 887383\tobservations. To make it a little more manageable, I am only going to select 10 of the variables to include in our dataset."
   ]
  },
  {
   "cell_type": "code",
   "execution_count": 15,
   "metadata": {},
   "outputs": [],
   "source": [
    "#Querying only 10 of the most interesting variables\n",
    "df_lite = pd.read_sql_query(\"\"\"select loan_amnt, term, int_rate, funded_amnt, zip_code, addr_state, emp_title, emp_length, home_ownership, grade from loan\n",
    "                    \"\"\", conn)"
   ]
  },
  {
   "cell_type": "markdown",
   "metadata": {},
   "source": [
    "### Summarize Data"
   ]
  },
  {
   "cell_type": "markdown",
   "metadata": {},
   "source": [
    "Now that I've excluded the unneccessary variables, I'd like to get a preview of the new dataset to get a better idea of what we're dealing with. "
   ]
  },
  {
   "cell_type": "code",
   "execution_count": 16,
   "metadata": {
    "scrolled": true
   },
   "outputs": [
    {
     "name": "stdout",
     "output_type": "stream",
     "text": [
      "<class 'pandas.core.frame.DataFrame'>\n",
      "RangeIndex: 887383 entries, 0 to 887382\n",
      "Data columns (total 10 columns):\n",
      "loan_amnt         887382 non-null float64\n",
      "term              887382 non-null object\n",
      "int_rate          887382 non-null object\n",
      "funded_amnt       887382 non-null float64\n",
      "zip_code          887382 non-null object\n",
      "addr_state        887382 non-null object\n",
      "emp_title         835925 non-null object\n",
      "emp_length        887382 non-null object\n",
      "home_ownership    887382 non-null object\n",
      "grade             887382 non-null object\n",
      "dtypes: float64(2), object(8)\n",
      "memory usage: 67.7+ MB\n"
     ]
    },
    {
     "data": {
      "text/html": [
       "<div>\n",
       "<style scoped>\n",
       "    .dataframe tbody tr th:only-of-type {\n",
       "        vertical-align: middle;\n",
       "    }\n",
       "\n",
       "    .dataframe tbody tr th {\n",
       "        vertical-align: top;\n",
       "    }\n",
       "\n",
       "    .dataframe thead th {\n",
       "        text-align: right;\n",
       "    }\n",
       "</style>\n",
       "<table border=\"1\" class=\"dataframe\">\n",
       "  <thead>\n",
       "    <tr style=\"text-align: right;\">\n",
       "      <th></th>\n",
       "      <th>loan_amnt</th>\n",
       "      <th>funded_amnt</th>\n",
       "    </tr>\n",
       "  </thead>\n",
       "  <tbody>\n",
       "    <tr>\n",
       "      <th>count</th>\n",
       "      <td>887382.000000</td>\n",
       "      <td>887382.000000</td>\n",
       "    </tr>\n",
       "    <tr>\n",
       "      <th>mean</th>\n",
       "      <td>14755.280082</td>\n",
       "      <td>14741.893147</td>\n",
       "    </tr>\n",
       "    <tr>\n",
       "      <th>std</th>\n",
       "      <td>8435.456408</td>\n",
       "      <td>8429.898507</td>\n",
       "    </tr>\n",
       "    <tr>\n",
       "      <th>min</th>\n",
       "      <td>500.000000</td>\n",
       "      <td>500.000000</td>\n",
       "    </tr>\n",
       "    <tr>\n",
       "      <th>25%</th>\n",
       "      <td>8000.000000</td>\n",
       "      <td>8000.000000</td>\n",
       "    </tr>\n",
       "    <tr>\n",
       "      <th>50%</th>\n",
       "      <td>13000.000000</td>\n",
       "      <td>13000.000000</td>\n",
       "    </tr>\n",
       "    <tr>\n",
       "      <th>75%</th>\n",
       "      <td>20000.000000</td>\n",
       "      <td>20000.000000</td>\n",
       "    </tr>\n",
       "    <tr>\n",
       "      <th>max</th>\n",
       "      <td>35000.000000</td>\n",
       "      <td>35000.000000</td>\n",
       "    </tr>\n",
       "  </tbody>\n",
       "</table>\n",
       "</div>"
      ],
      "text/plain": [
       "           loan_amnt    funded_amnt\n",
       "count  887382.000000  887382.000000\n",
       "mean    14755.280082   14741.893147\n",
       "std      8435.456408    8429.898507\n",
       "min       500.000000     500.000000\n",
       "25%      8000.000000    8000.000000\n",
       "50%     13000.000000   13000.000000\n",
       "75%     20000.000000   20000.000000\n",
       "max     35000.000000   35000.000000"
      ]
     },
     "execution_count": 16,
     "metadata": {},
     "output_type": "execute_result"
    }
   ],
   "source": [
    "#Preview data\n",
    "df_lite.info()\n",
    "df_lite.describe()"
   ]
  },
  {
   "cell_type": "markdown",
   "metadata": {},
   "source": [
    "### Cleaning Data"
   ]
  },
  {
   "cell_type": "markdown",
   "metadata": {},
   "source": [
    "One issue that I'm seeing from this preview is the fact that \"int_rate\" and \"term\" are strings. We will be able to do a lot more with them by converting them into numeric data types."
   ]
  },
  {
   "cell_type": "code",
   "execution_count": 17,
   "metadata": {},
   "outputs": [],
   "source": [
    "#Convert interest rate and term from string to float type\n",
    "df_lite['int_rate'] = df_lite['int_rate'].str.rstrip('%').astype('float') / 100.0\n",
    "df_lite['term'] = df_lite['term'].str.rstrip(' months').astype('float')"
   ]
  },
  {
   "cell_type": "markdown",
   "metadata": {},
   "source": [
    "Next, I will check my dataset for any missing data"
   ]
  },
  {
   "cell_type": "code",
   "execution_count": 18,
   "metadata": {},
   "outputs": [
    {
     "data": {
      "text/plain": [
       "loan_amnt         True\n",
       "term              True\n",
       "int_rate          True\n",
       "funded_amnt       True\n",
       "zip_code          True\n",
       "addr_state        True\n",
       "emp_title         True\n",
       "emp_length        True\n",
       "home_ownership    True\n",
       "grade             True\n",
       "dtype: bool"
      ]
     },
     "execution_count": 18,
     "metadata": {},
     "output_type": "execute_result"
    }
   ],
   "source": [
    "#Check to see which variables have missing values\n",
    "df_lite.isnull().any()"
   ]
  },
  {
   "cell_type": "markdown",
   "metadata": {},
   "source": [
    "By checking for missing values in my dataset, I have found that my dataset has missing data in all of my columns. The next step is to check and see if these missing values are random or non-random."
   ]
  },
  {
   "cell_type": "markdown",
   "metadata": {},
   "source": [
    "But first, I am going to see how many missing values there are per column."
   ]
  },
  {
   "cell_type": "code",
   "execution_count": 19,
   "metadata": {},
   "outputs": [
    {
     "data": {
      "text/plain": [
       "loan_amnt             1\n",
       "term                  1\n",
       "int_rate              1\n",
       "funded_amnt           1\n",
       "zip_code              1\n",
       "addr_state            1\n",
       "emp_title         51458\n",
       "emp_length            1\n",
       "home_ownership        1\n",
       "grade                 1\n",
       "dtype: int64"
      ]
     },
     "execution_count": 19,
     "metadata": {},
     "output_type": "execute_result"
    }
   ],
   "source": [
    "#Check for number of missing values per column\n",
    "df_lite.isnull().sum()"
   ]
  },
  {
   "cell_type": "markdown",
   "metadata": {},
   "source": [
    "The good news is that each column only has one missing value besides emp_title which has more than half of its values missing."
   ]
  },
  {
   "cell_type": "markdown",
   "metadata": {},
   "source": [
    "I am going to strip out the emp_title and emp_length to look at the missing data for the other variables to determine why it is missing. "
   ]
  },
  {
   "cell_type": "code",
   "execution_count": 20,
   "metadata": {},
   "outputs": [
    {
     "data": {
      "text/html": [
       "<div>\n",
       "<style scoped>\n",
       "    .dataframe tbody tr th:only-of-type {\n",
       "        vertical-align: middle;\n",
       "    }\n",
       "\n",
       "    .dataframe tbody tr th {\n",
       "        vertical-align: top;\n",
       "    }\n",
       "\n",
       "    .dataframe thead th {\n",
       "        text-align: right;\n",
       "    }\n",
       "</style>\n",
       "<table border=\"1\" class=\"dataframe\">\n",
       "  <thead>\n",
       "    <tr style=\"text-align: right;\">\n",
       "      <th></th>\n",
       "      <th>loan_amnt</th>\n",
       "      <th>term</th>\n",
       "      <th>int_rate</th>\n",
       "      <th>funded_amnt</th>\n",
       "      <th>zip_code</th>\n",
       "      <th>addr_state</th>\n",
       "      <th>home_ownership</th>\n",
       "      <th>grade</th>\n",
       "    </tr>\n",
       "  </thead>\n",
       "  <tbody>\n",
       "    <tr>\n",
       "      <th>39786</th>\n",
       "      <td>NaN</td>\n",
       "      <td>None</td>\n",
       "      <td>None</td>\n",
       "      <td>NaN</td>\n",
       "      <td>None</td>\n",
       "      <td>None</td>\n",
       "      <td>None</td>\n",
       "      <td>None</td>\n",
       "    </tr>\n",
       "  </tbody>\n",
       "</table>\n",
       "</div>"
      ],
      "text/plain": [
       "       loan_amnt  term int_rate  funded_amnt zip_code addr_state  \\\n",
       "39786        NaN  None     None          NaN     None       None   \n",
       "\n",
       "      home_ownership grade  \n",
       "39786           None  None  "
      ]
     },
     "execution_count": 20,
     "metadata": {},
     "output_type": "execute_result"
    }
   ],
   "source": [
    "#New dataframe querying the dataset without emp_title and emp_length\n",
    "df_noemp = pd.read_sql_query(\"\"\"select loan_amnt, term, int_rate, funded_amnt, zip_code, addr_state, home_ownership, grade from loan\n",
    "                    \"\"\", conn)\n",
    "#Creating a new dataframe that is returning just the rows with missing data\n",
    "null_data = df_noemp[df_noemp.isnull().any(axis=1)]\n",
    "null_data"
   ]
  },
  {
   "cell_type": "markdown",
   "metadata": {},
   "source": [
    "After looking closer at the data, it seems like there is a random row with missing data for each column. I will drop this row. "
   ]
  },
  {
   "cell_type": "code",
   "execution_count": 21,
   "metadata": {},
   "outputs": [],
   "source": [
    "#Drop problematic row with null values\n",
    "df_lite.drop(df_lite.index[39786], inplace=True)"
   ]
  },
  {
   "cell_type": "markdown",
   "metadata": {},
   "source": [
    "I have also determined that emp_title is missing values because some of the loan holders are unemployed. There is no need to change these values. "
   ]
  },
  {
   "cell_type": "markdown",
   "metadata": {},
   "source": [
    "The last thing I will do is look for outliers in the dataset."
   ]
  },
  {
   "cell_type": "code",
   "execution_count": 22,
   "metadata": {},
   "outputs": [
    {
     "data": {
      "image/png": "[encoded data removed]",
      "text/plain": [
       "<Figure size 432x288 with 1 Axes>"
      ]
     },
     "metadata": {},
     "output_type": "display_data"
    }
   ],
   "source": [
    "#Create box plot to look for outliers\n",
    "bbox = df_lite['int_rate'].plot(kind=\"box\")"
   ]
  },
  {
   "cell_type": "markdown",
   "metadata": {},
   "source": [
    "Here anything outside of the whiskers (1.5 times the inter quartile range, 25% - 75%) would be considered an outlier. \n",
    "\n",
    "As we can see, there may be a few outliers between the 25% and 30% range. We can take a closer look at these values."
   ]
  },
  {
   "cell_type": "code",
   "execution_count": 23,
   "metadata": {},
   "outputs": [
    {
     "data": {
      "text/html": [
       "<div>\n",
       "<style scoped>\n",
       "    .dataframe tbody tr th:only-of-type {\n",
       "        vertical-align: middle;\n",
       "    }\n",
       "\n",
       "    .dataframe tbody tr th {\n",
       "        vertical-align: top;\n",
       "    }\n",
       "\n",
       "    .dataframe thead th {\n",
       "        text-align: right;\n",
       "    }\n",
       "</style>\n",
       "<table border=\"1\" class=\"dataframe\">\n",
       "  <thead>\n",
       "    <tr style=\"text-align: right;\">\n",
       "      <th></th>\n",
       "      <th>index</th>\n",
       "      <th>id</th>\n",
       "      <th>member_id</th>\n",
       "      <th>loan_amnt</th>\n",
       "      <th>funded_amnt</th>\n",
       "      <th>funded_amnt_inv</th>\n",
       "      <th>term</th>\n",
       "      <th>int_rate</th>\n",
       "      <th>installment</th>\n",
       "      <th>grade</th>\n",
       "      <th>...</th>\n",
       "      <th>il_util</th>\n",
       "      <th>open_rv_12m</th>\n",
       "      <th>open_rv_24m</th>\n",
       "      <th>max_bal_bc</th>\n",
       "      <th>all_util</th>\n",
       "      <th>total_rev_hi_lim</th>\n",
       "      <th>inq_fi</th>\n",
       "      <th>total_cu_tl</th>\n",
       "      <th>inq_last_12m</th>\n",
       "      <th>max(int_rate)</th>\n",
       "    </tr>\n",
       "  </thead>\n",
       "  <tbody>\n",
       "    <tr>\n",
       "      <th>0</th>\n",
       "      <td>2807</td>\n",
       "      <td>68394899</td>\n",
       "      <td>73284687.0</td>\n",
       "      <td>30225.0</td>\n",
       "      <td>30225.0</td>\n",
       "      <td>30225.0</td>\n",
       "      <td>60 months</td>\n",
       "      <td>28.99%</td>\n",
       "      <td>959.22</td>\n",
       "      <td>G</td>\n",
       "      <td>...</td>\n",
       "      <td>77.5</td>\n",
       "      <td>3.0</td>\n",
       "      <td>3.0</td>\n",
       "      <td>4604.0</td>\n",
       "      <td>67.1</td>\n",
       "      <td>26900.0</td>\n",
       "      <td>0.0</td>\n",
       "      <td>0.0</td>\n",
       "      <td>4.0</td>\n",
       "      <td>28.99%</td>\n",
       "    </tr>\n",
       "  </tbody>\n",
       "</table>\n",
       "<p>1 rows × 76 columns</p>\n",
       "</div>"
      ],
      "text/plain": [
       "   index        id   member_id  loan_amnt  funded_amnt  funded_amnt_inv  \\\n",
       "0   2807  68394899  73284687.0    30225.0      30225.0          30225.0   \n",
       "\n",
       "         term int_rate  installment grade      ...      il_util open_rv_12m  \\\n",
       "0   60 months   28.99%       959.22     G      ...         77.5         3.0   \n",
       "\n",
       "  open_rv_24m max_bal_bc  all_util total_rev_hi_lim inq_fi total_cu_tl  \\\n",
       "0         3.0     4604.0      67.1          26900.0    0.0         0.0   \n",
       "\n",
       "  inq_last_12m max(int_rate)  \n",
       "0          4.0        28.99%  \n",
       "\n",
       "[1 rows x 76 columns]"
      ]
     },
     "execution_count": 23,
     "metadata": {},
     "output_type": "execute_result"
    }
   ],
   "source": [
    "#Query the max interest rate from the dataset\n",
    "pd.read_sql_query(\"\"\"select *, max(int_rate) from loan\"\"\", conn)"
   ]
  },
  {
   "cell_type": "markdown",
   "metadata": {},
   "source": [
    "Although this interest rate is very high and may land outside of our 1.5x inter quartile range, the data looks valid. It also isn't so much of an outlier as to skew our results. As such, I will keep these values in the dataset. "
   ]
  },
  {
   "cell_type": "markdown",
   "metadata": {},
   "source": [
    "### Visualizing Data"
   ]
  },
  {
   "cell_type": "markdown",
   "metadata": {},
   "source": [
    "Now that the data is clean and we have accounted for our outliers, we can visualize our data."
   ]
  },
  {
   "cell_type": "markdown",
   "metadata": {},
   "source": [
    "The first thing I will do is check the variables in the dataset for correlation. "
   ]
  },
  {
   "cell_type": "code",
   "execution_count": 24,
   "metadata": {},
   "outputs": [
    {
     "data": {
      "text/html": [
       "<div>\n",
       "<style scoped>\n",
       "    .dataframe tbody tr th:only-of-type {\n",
       "        vertical-align: middle;\n",
       "    }\n",
       "\n",
       "    .dataframe tbody tr th {\n",
       "        vertical-align: top;\n",
       "    }\n",
       "\n",
       "    .dataframe thead th {\n",
       "        text-align: right;\n",
       "    }\n",
       "</style>\n",
       "<table border=\"1\" class=\"dataframe\">\n",
       "  <thead>\n",
       "    <tr style=\"text-align: right;\">\n",
       "      <th></th>\n",
       "      <th>loan_amnt</th>\n",
       "      <th>term</th>\n",
       "      <th>int_rate</th>\n",
       "      <th>funded_amnt</th>\n",
       "    </tr>\n",
       "  </thead>\n",
       "  <tbody>\n",
       "    <tr>\n",
       "      <th>loan_amnt</th>\n",
       "      <td>1.000000</td>\n",
       "      <td>0.411715</td>\n",
       "      <td>0.145020</td>\n",
       "      <td>0.999263</td>\n",
       "    </tr>\n",
       "    <tr>\n",
       "      <th>term</th>\n",
       "      <td>0.411715</td>\n",
       "      <td>1.000000</td>\n",
       "      <td>0.428060</td>\n",
       "      <td>0.410759</td>\n",
       "    </tr>\n",
       "    <tr>\n",
       "      <th>int_rate</th>\n",
       "      <td>0.145020</td>\n",
       "      <td>0.428060</td>\n",
       "      <td>1.000000</td>\n",
       "      <td>0.145157</td>\n",
       "    </tr>\n",
       "    <tr>\n",
       "      <th>funded_amnt</th>\n",
       "      <td>0.999263</td>\n",
       "      <td>0.410759</td>\n",
       "      <td>0.145157</td>\n",
       "      <td>1.000000</td>\n",
       "    </tr>\n",
       "  </tbody>\n",
       "</table>\n",
       "</div>"
      ],
      "text/plain": [
       "             loan_amnt      term  int_rate  funded_amnt\n",
       "loan_amnt     1.000000  0.411715  0.145020     0.999263\n",
       "term          0.411715  1.000000  0.428060     0.410759\n",
       "int_rate      0.145020  0.428060  1.000000     0.145157\n",
       "funded_amnt   0.999263  0.410759  0.145157     1.000000"
      ]
     },
     "execution_count": 24,
     "metadata": {},
     "output_type": "execute_result"
    }
   ],
   "source": [
    "df_lite.corr()"
   ]
  },
  {
   "cell_type": "markdown",
   "metadata": {},
   "source": [
    "As expected, there is a strong correlation between our variables. This makes sense because they are all linked in some way. One interesting learning from this correlation table is that interest rate and loan amount aren't very highly correlated. I assume that interest rate must be determined more by the term of the loan and the grade of the loan. We can see that interest rate and term have a much higher correlation than interest rate and loan amount. "
   ]
  },
  {
   "cell_type": "markdown",
   "metadata": {},
   "source": [
    "The next thing I would like to see is how the loan grade and the interest rate are correlated. I'll use a trusty barplot to see the average interest rate for each loan grade. "
   ]
  },
  {
   "cell_type": "code",
   "execution_count": 35,
   "metadata": {},
   "outputs": [
    {
     "data": {
      "image/png": "[encoded data removed]",
      "text/plain": [
       "<Figure size 432x288 with 1 Axes>"
      ]
     },
     "metadata": {},
     "output_type": "display_data"
    }
   ],
   "source": [
    "#Create barplot\n",
    "barplot(df_lite.grade, df_lite.int_rate, 10)"
   ]
  },
  {
   "cell_type": "markdown",
   "metadata": {},
   "source": [
    "As expected, the loan grade is highly correlated with the interest rate it receives. In the above graph we see that an A grade loan has an average interest rate around 7.5% and a G grade loan has an average interest rate above 25%. "
   ]
  },
  {
   "cell_type": "markdown",
   "metadata": {},
   "source": [
    "Lastly, I would like to look at the shape of the interest rate distribution. "
   ]
  },
  {
   "cell_type": "code",
   "execution_count": 40,
   "metadata": {},
   "outputs": [
    {
     "name": "stderr",
     "output_type": "stream",
     "text": [
      "C:\\Users\\Spencer\\Anaconda3\\lib\\site-packages\\matplotlib\\axes\\_axes.py:6462: UserWarning: The 'normed' kwarg is deprecated, and has been replaced by the 'density' kwarg.\n",
      "  warnings.warn(\"The 'normed' kwarg is deprecated, and has been \"\n"
     ]
    },
    {
     "data": {
      "image/png": "[encoded data removed]",
      "text/plain": [
       "<Figure size 432x288 with 1 Axes>"
      ]
     },
     "metadata": {},
     "output_type": "display_data"
    }
   ],
   "source": [
    "#Plot interest rate distribution shape\n",
    "sns.distplot(df_lite.int_rate, kde=True)\n",
    "y(\"Number of Loans (in thousands)\", 10)"
   ]
  },
  {
   "cell_type": "markdown",
   "metadata": {},
   "source": [
    "The shape of the interest rate distrubution looks to be mostly normal. There appears to be another slight peak near 7.5% interest rates, but for the most part I think we could conclude interest rates are normally distributed."
   ]
  },
  {
   "cell_type": "markdown",
   "metadata": {},
   "source": [
    "### Import Dataset 3"
   ]
  },
  {
   "cell_type": "markdown",
   "metadata": {},
   "source": [
    "This past summer, I interned at Citigroup in San Francisco in their technology investment banking group. I spent the majority of my time researching and analyzing and advising tech companies on mergers and acquisitions and raising money in the capital markets. For my last dataset, I decided to leverage the IEX API to analyze some tech company financial data. I then leveraged some code written by github user \"himoacs\" to retrieve the financial data from IEX. "
   ]
  },
  {
   "cell_type": "code",
   "execution_count": 110,
   "metadata": {},
   "outputs": [],
   "source": [
    "#Creating the class 'API'\n",
    "\n",
    "class API(object):\n",
    "\n",
    "    def __init__(self):\n",
    "        self._end_point_prefix = r'https://api.iextrading.com/1.0/'\n",
    "\n",
    "    def return_valid_securities(self, securities):\n",
    "        suffix = r'ref-data/symbols'\n",
    "        valid_securities = self._url_to_dataframe(self._end_point_prefix+suffix)['symbol']\n",
    "        return [x for x in securities if x in set(valid_securities)]\n",
    "\n",
    "    def _url_to_dataframe(self, url, nest=None):\n",
    "        request = Request(url)\n",
    "        response = urlopen(request)\n",
    "        elevations = response.read()\n",
    "        data = json.loads(elevations)\n",
    "\n",
    "        if nest:\n",
    "            data = json_normalize(data[nest])\n",
    "        else:\n",
    "            data = json_normalize(data)\n",
    "\n",
    "        return pd.DataFrame(data)\n",
    "\n",
    "    def get_financials(self, securities):\n",
    "        securities = self.return_valid_securities(securities)\n",
    "        final_df = pd.DataFrame({})\n",
    "\n",
    "        # Get financials of each company and then append the results together\n",
    "        if securities:\n",
    "            for symbol in securities:\n",
    "                suffix = r'stock/{symbol}/financials'.format(symbol=symbol)\n",
    "                df = self._url_to_dataframe(self._end_point_prefix + suffix, 'financials')\n",
    "                df['symbol'] = symbol\n",
    "                final_df = final_df.append(df, ignore_index=True)\n",
    "            return final_df\n",
    "        else:\n",
    "            print('These stock(s) are invalid!')"
   ]
  },
  {
   "cell_type": "code",
   "execution_count": 129,
   "metadata": {},
   "outputs": [
    {
     "name": "stderr",
     "output_type": "stream",
     "text": [
      "C:\\Users\\Spencer\\Anaconda3\\lib\\site-packages\\pandas\\core\\frame.py:6201: FutureWarning: Sorting because non-concatenation axis is not aligned. A future version\n",
      "of pandas will change to not sort by default.\n",
      "\n",
      "To accept the future behavior, pass 'sort=True'.\n",
      "\n",
      "To retain the current behavior and silence the warning, pass sort=False\n",
      "\n",
      "  sort=sort)\n"
     ]
    }
   ],
   "source": [
    "m  =  API()\n",
    "ticker_list  = ['AAPL', 'GOOGL', 'FB', 'AMZN', 'MSFT', 'INTC', 'IBM', 'HPE', 'CSCO', 'ORCL']\n",
    "fin_df = pd.DataFrame(m.get_financials(ticker_list))"
   ]
  },
  {
   "cell_type": "code",
   "execution_count": 130,
   "metadata": {},
   "outputs": [
    {
     "data": {
      "text/html": [
       "<div>\n",
       "<style scoped>\n",
       "    .dataframe tbody tr th:only-of-type {\n",
       "        vertical-align: middle;\n",
       "    }\n",
       "\n",
       "    .dataframe tbody tr th {\n",
       "        vertical-align: top;\n",
       "    }\n",
       "\n",
       "    .dataframe thead th {\n",
       "        text-align: right;\n",
       "    }\n",
       "</style>\n",
       "<table border=\"1\" class=\"dataframe\">\n",
       "  <thead>\n",
       "    <tr style=\"text-align: right;\">\n",
       "      <th></th>\n",
       "      <th>cashChange</th>\n",
       "      <th>cashFlow</th>\n",
       "      <th>costOfRevenue</th>\n",
       "      <th>currentAssets</th>\n",
       "      <th>currentCash</th>\n",
       "      <th>currentDebt</th>\n",
       "      <th>grossProfit</th>\n",
       "      <th>netIncome</th>\n",
       "      <th>operatingExpense</th>\n",
       "      <th>operatingGainsLosses</th>\n",
       "      <th>operatingIncome</th>\n",
       "      <th>operatingRevenue</th>\n",
       "      <th>reportDate</th>\n",
       "      <th>researchAndDevelopment</th>\n",
       "      <th>shareholderEquity</th>\n",
       "      <th>symbol</th>\n",
       "      <th>totalAssets</th>\n",
       "      <th>totalCash</th>\n",
       "      <th>totalDebt</th>\n",
       "      <th>totalRevenue</th>\n",
       "    </tr>\n",
       "  </thead>\n",
       "  <tbody>\n",
       "    <tr>\n",
       "      <th>0</th>\n",
       "      <td>-13088000000</td>\n",
       "      <td>14488000000</td>\n",
       "      <td>32844000000</td>\n",
       "      <td>115761000000</td>\n",
       "      <td>31971000000</td>\n",
       "      <td>1.747200e+10</td>\n",
       "      <td>20421000000</td>\n",
       "      <td>11519000000</td>\n",
       "      <td>7809000000</td>\n",
       "      <td>NaN</td>\n",
       "      <td>12612000000</td>\n",
       "      <td>53265000000</td>\n",
       "      <td>2018-06-30</td>\n",
       "      <td>3701000000</td>\n",
       "      <td>114949000000</td>\n",
       "      <td>AAPL</td>\n",
       "      <td>349197000000</td>\n",
       "      <td>70970000000</td>\n",
       "      <td>1.146000e+11</td>\n",
       "      <td>53265000000</td>\n",
       "    </tr>\n",
       "    <tr>\n",
       "      <th>1</th>\n",
       "      <td>17568000000</td>\n",
       "      <td>15130000000</td>\n",
       "      <td>37715000000</td>\n",
       "      <td>130053000000</td>\n",
       "      <td>45059000000</td>\n",
       "      <td>2.047800e+10</td>\n",
       "      <td>23422000000</td>\n",
       "      <td>13822000000</td>\n",
       "      <td>7528000000</td>\n",
       "      <td>NaN</td>\n",
       "      <td>15894000000</td>\n",
       "      <td>61137000000</td>\n",
       "      <td>2018-03-31</td>\n",
       "      <td>3378000000</td>\n",
       "      <td>126878000000</td>\n",
       "      <td>AAPL</td>\n",
       "      <td>367502000000</td>\n",
       "      <td>87940000000</td>\n",
       "      <td>1.218400e+11</td>\n",
       "      <td>61137000000</td>\n",
       "    </tr>\n",
       "    <tr>\n",
       "      <th>2</th>\n",
       "      <td>7202000000</td>\n",
       "      <td>28293000000</td>\n",
       "      <td>54381000000</td>\n",
       "      <td>143810000000</td>\n",
       "      <td>27491000000</td>\n",
       "      <td>1.847800e+10</td>\n",
       "      <td>33912000000</td>\n",
       "      <td>20065000000</td>\n",
       "      <td>7638000000</td>\n",
       "      <td>NaN</td>\n",
       "      <td>26274000000</td>\n",
       "      <td>88293000000</td>\n",
       "      <td>2017-12-31</td>\n",
       "      <td>3407000000</td>\n",
       "      <td>140199000000</td>\n",
       "      <td>AAPL</td>\n",
       "      <td>406794000000</td>\n",
       "      <td>77153000000</td>\n",
       "      <td>1.224000e+11</td>\n",
       "      <td>88293000000</td>\n",
       "    </tr>\n",
       "    <tr>\n",
       "      <th>3</th>\n",
       "      <td>1718000000</td>\n",
       "      <td>15122000000</td>\n",
       "      <td>32648000000</td>\n",
       "      <td>128645000000</td>\n",
       "      <td>20289000000</td>\n",
       "      <td>1.847300e+10</td>\n",
       "      <td>19931000000</td>\n",
       "      <td>10714000000</td>\n",
       "      <td>6811000000</td>\n",
       "      <td>NaN</td>\n",
       "      <td>13120000000</td>\n",
       "      <td>52579000000</td>\n",
       "      <td>2017-09-30</td>\n",
       "      <td>2997000000</td>\n",
       "      <td>134047000000</td>\n",
       "      <td>AAPL</td>\n",
       "      <td>375319000000</td>\n",
       "      <td>74181000000</td>\n",
       "      <td>1.156800e+11</td>\n",
       "      <td>52579000000</td>\n",
       "    </tr>\n",
       "  </tbody>\n",
       "</table>\n",
       "</div>"
      ],
      "text/plain": [
       "    cashChange     cashFlow  costOfRevenue  currentAssets  currentCash  \\\n",
       "0 -13088000000  14488000000    32844000000   115761000000  31971000000   \n",
       "1  17568000000  15130000000    37715000000   130053000000  45059000000   \n",
       "2   7202000000  28293000000    54381000000   143810000000  27491000000   \n",
       "3   1718000000  15122000000    32648000000   128645000000  20289000000   \n",
       "\n",
       "    currentDebt  grossProfit    netIncome  operatingExpense  \\\n",
       "0  1.747200e+10  20421000000  11519000000        7809000000   \n",
       "1  2.047800e+10  23422000000  13822000000        7528000000   \n",
       "2  1.847800e+10  33912000000  20065000000        7638000000   \n",
       "3  1.847300e+10  19931000000  10714000000        6811000000   \n",
       "\n",
       "   operatingGainsLosses  operatingIncome  operatingRevenue  reportDate  \\\n",
       "0                   NaN      12612000000       53265000000  2018-06-30   \n",
       "1                   NaN      15894000000       61137000000  2018-03-31   \n",
       "2                   NaN      26274000000       88293000000  2017-12-31   \n",
       "3                   NaN      13120000000       52579000000  2017-09-30   \n",
       "\n",
       "   researchAndDevelopment  shareholderEquity symbol   totalAssets  \\\n",
       "0              3701000000       114949000000   AAPL  349197000000   \n",
       "1              3378000000       126878000000   AAPL  367502000000   \n",
       "2              3407000000       140199000000   AAPL  406794000000   \n",
       "3              2997000000       134047000000   AAPL  375319000000   \n",
       "\n",
       "     totalCash     totalDebt  totalRevenue  \n",
       "0  70970000000  1.146000e+11   53265000000  \n",
       "1  87940000000  1.218400e+11   61137000000  \n",
       "2  77153000000  1.224000e+11   88293000000  \n",
       "3  74181000000  1.156800e+11   52579000000  "
      ]
     },
     "execution_count": 130,
     "metadata": {},
     "output_type": "execute_result"
    }
   ],
   "source": [
    "fin_df[fin_df['symbol']=='AAPL']"
   ]
  },
  {
   "cell_type": "markdown",
   "metadata": {},
   "source": [
    "## Summarize the data"
   ]
  },
  {
   "cell_type": "code",
   "execution_count": 131,
   "metadata": {},
   "outputs": [
    {
     "name": "stdout",
     "output_type": "stream",
     "text": [
      "<class 'pandas.core.frame.DataFrame'>\n",
      "RangeIndex: 40 entries, 0 to 39\n",
      "Data columns (total 20 columns):\n",
      "cashChange                40 non-null int64\n",
      "cashFlow                  40 non-null int64\n",
      "costOfRevenue             40 non-null int64\n",
      "currentAssets             40 non-null int64\n",
      "currentCash               40 non-null int64\n",
      "currentDebt               29 non-null float64\n",
      "grossProfit               40 non-null int64\n",
      "netIncome                 40 non-null int64\n",
      "operatingExpense          40 non-null int64\n",
      "operatingGainsLosses      28 non-null float64\n",
      "operatingIncome           40 non-null int64\n",
      "operatingRevenue          40 non-null int64\n",
      "reportDate                40 non-null object\n",
      "researchAndDevelopment    40 non-null int64\n",
      "shareholderEquity         40 non-null int64\n",
      "symbol                    40 non-null object\n",
      "totalAssets               40 non-null int64\n",
      "totalCash                 40 non-null int64\n",
      "totalDebt                 29 non-null float64\n",
      "totalRevenue              40 non-null int64\n",
      "dtypes: float64(3), int64(15), object(2)\n",
      "memory usage: 6.3+ KB\n"
     ]
    },
    {
     "data": {
      "text/html": [
       "<div>\n",
       "<style scoped>\n",
       "    .dataframe tbody tr th:only-of-type {\n",
       "        vertical-align: middle;\n",
       "    }\n",
       "\n",
       "    .dataframe tbody tr th {\n",
       "        vertical-align: top;\n",
       "    }\n",
       "\n",
       "    .dataframe thead th {\n",
       "        text-align: right;\n",
       "    }\n",
       "</style>\n",
       "<table border=\"1\" class=\"dataframe\">\n",
       "  <thead>\n",
       "    <tr style=\"text-align: right;\">\n",
       "      <th></th>\n",
       "      <th>cashChange</th>\n",
       "      <th>cashFlow</th>\n",
       "      <th>costOfRevenue</th>\n",
       "      <th>currentAssets</th>\n",
       "      <th>currentCash</th>\n",
       "      <th>currentDebt</th>\n",
       "      <th>grossProfit</th>\n",
       "      <th>netIncome</th>\n",
       "      <th>operatingExpense</th>\n",
       "      <th>operatingGainsLosses</th>\n",
       "      <th>operatingIncome</th>\n",
       "      <th>operatingRevenue</th>\n",
       "      <th>reportDate</th>\n",
       "      <th>researchAndDevelopment</th>\n",
       "      <th>shareholderEquity</th>\n",
       "      <th>symbol</th>\n",
       "      <th>totalAssets</th>\n",
       "      <th>totalCash</th>\n",
       "      <th>totalDebt</th>\n",
       "      <th>totalRevenue</th>\n",
       "    </tr>\n",
       "  </thead>\n",
       "  <tbody>\n",
       "    <tr>\n",
       "      <th>0</th>\n",
       "      <td>-13088000000</td>\n",
       "      <td>14488000000</td>\n",
       "      <td>32844000000</td>\n",
       "      <td>115761000000</td>\n",
       "      <td>31971000000</td>\n",
       "      <td>1.747200e+10</td>\n",
       "      <td>20421000000</td>\n",
       "      <td>11519000000</td>\n",
       "      <td>7809000000</td>\n",
       "      <td>NaN</td>\n",
       "      <td>12612000000</td>\n",
       "      <td>53265000000</td>\n",
       "      <td>2018-06-30</td>\n",
       "      <td>3701000000</td>\n",
       "      <td>114949000000</td>\n",
       "      <td>AAPL</td>\n",
       "      <td>349197000000</td>\n",
       "      <td>70970000000</td>\n",
       "      <td>1.146000e+11</td>\n",
       "      <td>53265000000</td>\n",
       "    </tr>\n",
       "    <tr>\n",
       "      <th>1</th>\n",
       "      <td>17568000000</td>\n",
       "      <td>15130000000</td>\n",
       "      <td>37715000000</td>\n",
       "      <td>130053000000</td>\n",
       "      <td>45059000000</td>\n",
       "      <td>2.047800e+10</td>\n",
       "      <td>23422000000</td>\n",
       "      <td>13822000000</td>\n",
       "      <td>7528000000</td>\n",
       "      <td>NaN</td>\n",
       "      <td>15894000000</td>\n",
       "      <td>61137000000</td>\n",
       "      <td>2018-03-31</td>\n",
       "      <td>3378000000</td>\n",
       "      <td>126878000000</td>\n",
       "      <td>AAPL</td>\n",
       "      <td>367502000000</td>\n",
       "      <td>87940000000</td>\n",
       "      <td>1.218400e+11</td>\n",
       "      <td>61137000000</td>\n",
       "    </tr>\n",
       "    <tr>\n",
       "      <th>2</th>\n",
       "      <td>7202000000</td>\n",
       "      <td>28293000000</td>\n",
       "      <td>54381000000</td>\n",
       "      <td>143810000000</td>\n",
       "      <td>27491000000</td>\n",
       "      <td>1.847800e+10</td>\n",
       "      <td>33912000000</td>\n",
       "      <td>20065000000</td>\n",
       "      <td>7638000000</td>\n",
       "      <td>NaN</td>\n",
       "      <td>26274000000</td>\n",
       "      <td>88293000000</td>\n",
       "      <td>2017-12-31</td>\n",
       "      <td>3407000000</td>\n",
       "      <td>140199000000</td>\n",
       "      <td>AAPL</td>\n",
       "      <td>406794000000</td>\n",
       "      <td>77153000000</td>\n",
       "      <td>1.224000e+11</td>\n",
       "      <td>88293000000</td>\n",
       "    </tr>\n",
       "    <tr>\n",
       "      <th>3</th>\n",
       "      <td>1718000000</td>\n",
       "      <td>15122000000</td>\n",
       "      <td>32648000000</td>\n",
       "      <td>128645000000</td>\n",
       "      <td>20289000000</td>\n",
       "      <td>1.847300e+10</td>\n",
       "      <td>19931000000</td>\n",
       "      <td>10714000000</td>\n",
       "      <td>6811000000</td>\n",
       "      <td>NaN</td>\n",
       "      <td>13120000000</td>\n",
       "      <td>52579000000</td>\n",
       "      <td>2017-09-30</td>\n",
       "      <td>2997000000</td>\n",
       "      <td>134047000000</td>\n",
       "      <td>AAPL</td>\n",
       "      <td>375319000000</td>\n",
       "      <td>74181000000</td>\n",
       "      <td>1.156800e+11</td>\n",
       "      <td>52579000000</td>\n",
       "    </tr>\n",
       "    <tr>\n",
       "      <th>4</th>\n",
       "      <td>1821000000</td>\n",
       "      <td>10132000000</td>\n",
       "      <td>13883000000</td>\n",
       "      <td>124157000000</td>\n",
       "      <td>14148000000</td>\n",
       "      <td>NaN</td>\n",
       "      <td>18774000000</td>\n",
       "      <td>3195000000</td>\n",
       "      <td>10896000000</td>\n",
       "      <td>-1.068000e+09</td>\n",
       "      <td>7878000000</td>\n",
       "      <td>32512000000</td>\n",
       "      <td>2018-06-30</td>\n",
       "      <td>5114000000</td>\n",
       "      <td>162000000000</td>\n",
       "      <td>GOOGL</td>\n",
       "      <td>211610000000</td>\n",
       "      <td>102254000000</td>\n",
       "      <td>NaN</td>\n",
       "      <td>32657000000</td>\n",
       "    </tr>\n",
       "  </tbody>\n",
       "</table>\n",
       "</div>"
      ],
      "text/plain": [
       "    cashChange     cashFlow  costOfRevenue  currentAssets  currentCash  \\\n",
       "0 -13088000000  14488000000    32844000000   115761000000  31971000000   \n",
       "1  17568000000  15130000000    37715000000   130053000000  45059000000   \n",
       "2   7202000000  28293000000    54381000000   143810000000  27491000000   \n",
       "3   1718000000  15122000000    32648000000   128645000000  20289000000   \n",
       "4   1821000000  10132000000    13883000000   124157000000  14148000000   \n",
       "\n",
       "    currentDebt  grossProfit    netIncome  operatingExpense  \\\n",
       "0  1.747200e+10  20421000000  11519000000        7809000000   \n",
       "1  2.047800e+10  23422000000  13822000000        7528000000   \n",
       "2  1.847800e+10  33912000000  20065000000        7638000000   \n",
       "3  1.847300e+10  19931000000  10714000000        6811000000   \n",
       "4           NaN  18774000000   3195000000       10896000000   \n",
       "\n",
       "   operatingGainsLosses  operatingIncome  operatingRevenue  reportDate  \\\n",
       "0                   NaN      12612000000       53265000000  2018-06-30   \n",
       "1                   NaN      15894000000       61137000000  2018-03-31   \n",
       "2                   NaN      26274000000       88293000000  2017-12-31   \n",
       "3                   NaN      13120000000       52579000000  2017-09-30   \n",
       "4         -1.068000e+09       7878000000       32512000000  2018-06-30   \n",
       "\n",
       "   researchAndDevelopment  shareholderEquity symbol   totalAssets  \\\n",
       "0              3701000000       114949000000   AAPL  349197000000   \n",
       "1              3378000000       126878000000   AAPL  367502000000   \n",
       "2              3407000000       140199000000   AAPL  406794000000   \n",
       "3              2997000000       134047000000   AAPL  375319000000   \n",
       "4              5114000000       162000000000  GOOGL  211610000000   \n",
       "\n",
       "      totalCash     totalDebt  totalRevenue  \n",
       "0   70970000000  1.146000e+11   53265000000  \n",
       "1   87940000000  1.218400e+11   61137000000  \n",
       "2   77153000000  1.224000e+11   88293000000  \n",
       "3   74181000000  1.156800e+11   52579000000  \n",
       "4  102254000000           NaN   32657000000  "
      ]
     },
     "execution_count": 131,
     "metadata": {},
     "output_type": "execute_result"
    }
   ],
   "source": [
    "#Preview the data\n",
    "fin_df.info()\n",
    "fin_df.head()"
   ]
  },
  {
   "cell_type": "code",
   "execution_count": 132,
   "metadata": {},
   "outputs": [
    {
     "data": {
      "text/html": [
       "<div>\n",
       "<style scoped>\n",
       "    .dataframe tbody tr th:only-of-type {\n",
       "        vertical-align: middle;\n",
       "    }\n",
       "\n",
       "    .dataframe tbody tr th {\n",
       "        vertical-align: top;\n",
       "    }\n",
       "\n",
       "    .dataframe thead th {\n",
       "        text-align: right;\n",
       "    }\n",
       "</style>\n",
       "<table border=\"1\" class=\"dataframe\">\n",
       "  <thead>\n",
       "    <tr style=\"text-align: right;\">\n",
       "      <th></th>\n",
       "      <th>cashChange</th>\n",
       "      <th>cashFlow</th>\n",
       "      <th>costOfRevenue</th>\n",
       "      <th>currentAssets</th>\n",
       "      <th>currentCash</th>\n",
       "      <th>currentDebt</th>\n",
       "      <th>grossProfit</th>\n",
       "      <th>netIncome</th>\n",
       "      <th>operatingExpense</th>\n",
       "      <th>operatingGainsLosses</th>\n",
       "      <th>operatingIncome</th>\n",
       "      <th>operatingRevenue</th>\n",
       "      <th>researchAndDevelopment</th>\n",
       "      <th>shareholderEquity</th>\n",
       "      <th>totalAssets</th>\n",
       "      <th>totalCash</th>\n",
       "      <th>totalDebt</th>\n",
       "      <th>totalRevenue</th>\n",
       "    </tr>\n",
       "  </thead>\n",
       "  <tbody>\n",
       "    <tr>\n",
       "      <th>count</th>\n",
       "      <td>4.000000e+01</td>\n",
       "      <td>4.000000e+01</td>\n",
       "      <td>4.000000e+01</td>\n",
       "      <td>4.000000e+01</td>\n",
       "      <td>4.000000e+01</td>\n",
       "      <td>2.900000e+01</td>\n",
       "      <td>4.000000e+01</td>\n",
       "      <td>4.000000e+01</td>\n",
       "      <td>4.000000e+01</td>\n",
       "      <td>2.800000e+01</td>\n",
       "      <td>4.000000e+01</td>\n",
       "      <td>4.000000e+01</td>\n",
       "      <td>4.000000e+01</td>\n",
       "      <td>4.000000e+01</td>\n",
       "      <td>4.000000e+01</td>\n",
       "      <td>4.000000e+01</td>\n",
       "      <td>2.900000e+01</td>\n",
       "      <td>4.000000e+01</td>\n",
       "    </tr>\n",
       "    <tr>\n",
       "      <th>mean</th>\n",
       "      <td>2.350000e+08</td>\n",
       "      <td>7.081800e+09</td>\n",
       "      <td>1.329078e+10</td>\n",
       "      <td>7.654405e+10</td>\n",
       "      <td>1.359572e+10</td>\n",
       "      <td>7.356517e+09</td>\n",
       "      <td>1.203142e+10</td>\n",
       "      <td>3.514225e+09</td>\n",
       "      <td>6.398200e+09</td>\n",
       "      <td>-1.079643e+08</td>\n",
       "      <td>5.633225e+09</td>\n",
       "      <td>2.507612e+10</td>\n",
       "      <td>2.865425e+09</td>\n",
       "      <td>6.858855e+10</td>\n",
       "      <td>1.607514e+11</td>\n",
       "      <td>5.479758e+10</td>\n",
       "      <td>5.289131e+10</td>\n",
       "      <td>2.532215e+10</td>\n",
       "    </tr>\n",
       "    <tr>\n",
       "      <th>std</th>\n",
       "      <td>4.990818e+09</td>\n",
       "      <td>5.567167e+09</td>\n",
       "      <td>1.412462e+10</td>\n",
       "      <td>4.571631e+10</td>\n",
       "      <td>8.234749e+09</td>\n",
       "      <td>5.695104e+09</td>\n",
       "      <td>6.461351e+09</td>\n",
       "      <td>5.187129e+09</td>\n",
       "      <td>2.777419e+09</td>\n",
       "      <td>1.789062e+09</td>\n",
       "      <td>4.938048e+09</td>\n",
       "      <td>1.888362e+10</td>\n",
       "      <td>1.777060e+09</td>\n",
       "      <td>4.409936e+10</td>\n",
       "      <td>8.958262e+10</td>\n",
       "      <td>4.113318e+10</td>\n",
       "      <td>3.470866e+10</td>\n",
       "      <td>1.890827e+10</td>\n",
       "    </tr>\n",
       "    <tr>\n",
       "      <th>min</th>\n",
       "      <td>-1.308800e+10</td>\n",
       "      <td>-1.791000e+09</td>\n",
       "      <td>1.448000e+09</td>\n",
       "      <td>1.746700e+10</td>\n",
       "      <td>2.614000e+09</td>\n",
       "      <td>1.329000e+09</td>\n",
       "      <td>2.183000e+09</td>\n",
       "      <td>-8.778000e+09</td>\n",
       "      <td>1.735000e+09</td>\n",
       "      <td>-2.992000e+09</td>\n",
       "      <td>-4.280000e+08</td>\n",
       "      <td>7.468000e+09</td>\n",
       "      <td>3.640000e+08</td>\n",
       "      <td>1.759400e+10</td>\n",
       "      <td>5.751300e+10</td>\n",
       "      <td>5.193000e+09</td>\n",
       "      <td>5.302000e+09</td>\n",
       "      <td>7.468000e+09</td>\n",
       "    </tr>\n",
       "    <tr>\n",
       "      <th>25%</th>\n",
       "      <td>-1.821250e+09</td>\n",
       "      <td>3.505000e+09</td>\n",
       "      <td>4.707750e+09</td>\n",
       "      <td>4.628175e+10</td>\n",
       "      <td>8.720250e+09</td>\n",
       "      <td>3.842000e+09</td>\n",
       "      <td>7.883750e+09</td>\n",
       "      <td>1.271500e+09</td>\n",
       "      <td>4.478750e+09</td>\n",
       "      <td>-4.210000e+08</td>\n",
       "      <td>2.964250e+09</td>\n",
       "      <td>1.186400e+10</td>\n",
       "      <td>1.532500e+09</td>\n",
       "      <td>3.052450e+10</td>\n",
       "      <td>1.149522e+11</td>\n",
       "      <td>1.564825e+10</td>\n",
       "      <td>2.807200e+10</td>\n",
       "      <td>1.194625e+10</td>\n",
       "    </tr>\n",
       "    <tr>\n",
       "      <th>50%</th>\n",
       "      <td>3.000000e+06</td>\n",
       "      <td>6.291000e+09</td>\n",
       "      <td>7.410500e+09</td>\n",
       "      <td>6.101700e+10</td>\n",
       "      <td>1.180700e+10</td>\n",
       "      <td>4.491000e+09</td>\n",
       "      <td>1.023800e+10</td>\n",
       "      <td>2.708500e+09</td>\n",
       "      <td>5.471000e+09</td>\n",
       "      <td>-6.700000e+07</td>\n",
       "      <td>4.559500e+09</td>\n",
       "      <td>1.806200e+10</td>\n",
       "      <td>2.760000e+09</td>\n",
       "      <td>6.728450e+10</td>\n",
       "      <td>1.284770e+11</td>\n",
       "      <td>4.525200e+10</td>\n",
       "      <td>4.562600e+10</td>\n",
       "      <td>1.806200e+10</td>\n",
       "    </tr>\n",
       "    <tr>\n",
       "      <th>75%</th>\n",
       "      <td>1.920250e+09</td>\n",
       "      <td>1.016600e+10</td>\n",
       "      <td>1.357100e+10</td>\n",
       "      <td>1.204490e+11</td>\n",
       "      <td>1.783175e+10</td>\n",
       "      <td>9.220000e+09</td>\n",
       "      <td>1.685550e+10</td>\n",
       "      <td>5.031000e+09</td>\n",
       "      <td>8.925250e+09</td>\n",
       "      <td>1.575000e+07</td>\n",
       "      <td>7.675000e+09</td>\n",
       "      <td>3.031275e+10</td>\n",
       "      <td>3.704500e+09</td>\n",
       "      <td>8.021600e+10</td>\n",
       "      <td>1.997050e+11</td>\n",
       "      <td>7.492400e+10</td>\n",
       "      <td>7.624000e+10</td>\n",
       "      <td>3.144025e+10</td>\n",
       "    </tr>\n",
       "    <tr>\n",
       "      <th>max</th>\n",
       "      <td>1.756800e+10</td>\n",
       "      <td>2.829300e+10</td>\n",
       "      <td>5.438100e+10</td>\n",
       "      <td>1.696620e+11</td>\n",
       "      <td>4.505900e+10</td>\n",
       "      <td>2.047800e+10</td>\n",
       "      <td>3.391200e+10</td>\n",
       "      <td>2.006500e+10</td>\n",
       "      <td>1.133900e+10</td>\n",
       "      <td>8.135000e+09</td>\n",
       "      <td>2.627400e+10</td>\n",
       "      <td>8.829300e+10</td>\n",
       "      <td>7.247000e+09</td>\n",
       "      <td>1.620000e+11</td>\n",
       "      <td>4.067940e+11</td>\n",
       "      <td>1.427800e+11</td>\n",
       "      <td>1.224000e+11</td>\n",
       "      <td>8.829300e+10</td>\n",
       "    </tr>\n",
       "  </tbody>\n",
       "</table>\n",
       "</div>"
      ],
      "text/plain": [
       "         cashChange      cashFlow  costOfRevenue  currentAssets   currentCash  \\\n",
       "count  4.000000e+01  4.000000e+01   4.000000e+01   4.000000e+01  4.000000e+01   \n",
       "mean   2.350000e+08  7.081800e+09   1.329078e+10   7.654405e+10  1.359572e+10   \n",
       "std    4.990818e+09  5.567167e+09   1.412462e+10   4.571631e+10  8.234749e+09   \n",
       "min   -1.308800e+10 -1.791000e+09   1.448000e+09   1.746700e+10  2.614000e+09   \n",
       "25%   -1.821250e+09  3.505000e+09   4.707750e+09   4.628175e+10  8.720250e+09   \n",
       "50%    3.000000e+06  6.291000e+09   7.410500e+09   6.101700e+10  1.180700e+10   \n",
       "75%    1.920250e+09  1.016600e+10   1.357100e+10   1.204490e+11  1.783175e+10   \n",
       "max    1.756800e+10  2.829300e+10   5.438100e+10   1.696620e+11  4.505900e+10   \n",
       "\n",
       "        currentDebt   grossProfit     netIncome  operatingExpense  \\\n",
       "count  2.900000e+01  4.000000e+01  4.000000e+01      4.000000e+01   \n",
       "mean   7.356517e+09  1.203142e+10  3.514225e+09      6.398200e+09   \n",
       "std    5.695104e+09  6.461351e+09  5.187129e+09      2.777419e+09   \n",
       "min    1.329000e+09  2.183000e+09 -8.778000e+09      1.735000e+09   \n",
       "25%    3.842000e+09  7.883750e+09  1.271500e+09      4.478750e+09   \n",
       "50%    4.491000e+09  1.023800e+10  2.708500e+09      5.471000e+09   \n",
       "75%    9.220000e+09  1.685550e+10  5.031000e+09      8.925250e+09   \n",
       "max    2.047800e+10  3.391200e+10  2.006500e+10      1.133900e+10   \n",
       "\n",
       "       operatingGainsLosses  operatingIncome  operatingRevenue  \\\n",
       "count          2.800000e+01     4.000000e+01      4.000000e+01   \n",
       "mean          -1.079643e+08     5.633225e+09      2.507612e+10   \n",
       "std            1.789062e+09     4.938048e+09      1.888362e+10   \n",
       "min           -2.992000e+09    -4.280000e+08      7.468000e+09   \n",
       "25%           -4.210000e+08     2.964250e+09      1.186400e+10   \n",
       "50%           -6.700000e+07     4.559500e+09      1.806200e+10   \n",
       "75%            1.575000e+07     7.675000e+09      3.031275e+10   \n",
       "max            8.135000e+09     2.627400e+10      8.829300e+10   \n",
       "\n",
       "       researchAndDevelopment  shareholderEquity   totalAssets     totalCash  \\\n",
       "count            4.000000e+01       4.000000e+01  4.000000e+01  4.000000e+01   \n",
       "mean             2.865425e+09       6.858855e+10  1.607514e+11  5.479758e+10   \n",
       "std              1.777060e+09       4.409936e+10  8.958262e+10  4.113318e+10   \n",
       "min              3.640000e+08       1.759400e+10  5.751300e+10  5.193000e+09   \n",
       "25%              1.532500e+09       3.052450e+10  1.149522e+11  1.564825e+10   \n",
       "50%              2.760000e+09       6.728450e+10  1.284770e+11  4.525200e+10   \n",
       "75%              3.704500e+09       8.021600e+10  1.997050e+11  7.492400e+10   \n",
       "max              7.247000e+09       1.620000e+11  4.067940e+11  1.427800e+11   \n",
       "\n",
       "          totalDebt  totalRevenue  \n",
       "count  2.900000e+01  4.000000e+01  \n",
       "mean   5.289131e+10  2.532215e+10  \n",
       "std    3.470866e+10  1.890827e+10  \n",
       "min    5.302000e+09  7.468000e+09  \n",
       "25%    2.807200e+10  1.194625e+10  \n",
       "50%    4.562600e+10  1.806200e+10  \n",
       "75%    7.624000e+10  3.144025e+10  \n",
       "max    1.224000e+11  8.829300e+10  "
      ]
     },
     "execution_count": 132,
     "metadata": {},
     "output_type": "execute_result"
    }
   ],
   "source": [
    "fin_df.describe()"
   ]
  },
  {
   "cell_type": "markdown",
   "metadata": {},
   "source": [
    "### Cleaning the Data"
   ]
  },
  {
   "cell_type": "markdown",
   "metadata": {},
   "source": [
    "Upon closer examination, the 'reportDate' variable appears to be a non-null object. First step is to convert it to a non-null datetime64 object."
   ]
  },
  {
   "cell_type": "code",
   "execution_count": 133,
   "metadata": {},
   "outputs": [],
   "source": [
    "fin_df['reportDate'] = pd.to_datetime(fin_df['reportDate'])"
   ]
  },
  {
   "cell_type": "markdown",
   "metadata": {},
   "source": [
    "Next I will exame the dataset for missing values."
   ]
  },
  {
   "cell_type": "code",
   "execution_count": 134,
   "metadata": {},
   "outputs": [
    {
     "data": {
      "text/plain": [
       "cashChange                False\n",
       "cashFlow                  False\n",
       "costOfRevenue             False\n",
       "currentAssets             False\n",
       "currentCash               False\n",
       "currentDebt                True\n",
       "grossProfit               False\n",
       "netIncome                 False\n",
       "operatingExpense          False\n",
       "operatingGainsLosses       True\n",
       "operatingIncome           False\n",
       "operatingRevenue          False\n",
       "reportDate                False\n",
       "researchAndDevelopment    False\n",
       "shareholderEquity         False\n",
       "symbol                    False\n",
       "totalAssets               False\n",
       "totalCash                 False\n",
       "totalDebt                  True\n",
       "totalRevenue              False\n",
       "dtype: bool"
      ]
     },
     "execution_count": 134,
     "metadata": {},
     "output_type": "execute_result"
    }
   ],
   "source": [
    "fin_df.isnull().any()"
   ]
  }
 ],
 "metadata": {
  "kernelspec": {
   "display_name": "Python 3",
   "language": "python",
   "name": "python3"
  },
  "language_info": {
   "codemirror_mode": {
    "name": "ipython",
    "version": 3
   },
   "file_extension": ".py",
   "mimetype": "text/x-python",
   "name": "python",
   "nbconvert_exporter": "python",
   "pygments_lexer": "ipython3",
   "version": "3.6.5"
  }
 },
 "nbformat": 4,
 "nbformat_minor": 2
}
